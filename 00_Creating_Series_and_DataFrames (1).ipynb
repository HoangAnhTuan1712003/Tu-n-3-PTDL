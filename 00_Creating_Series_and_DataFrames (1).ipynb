{
 "cells": [
  {
   "cell_type": "markdown",
   "id": "9300f100",
   "metadata": {},
   "source": [
    "# 00 - Creating Series and DataFrames\n",
    "## Introduction\n",
    "In this exercise, we will learn how to create Series and DataFrames in Pandas."
   ]
  },
  {
   "cell_type": "markdown",
   "id": "ffa0fc48",
   "metadata": {},
   "source": [
    "## Step 1: Import the necessary libraries"
   ]
  },
  {
   "cell_type": "code",
   "execution_count": null,
   "id": "906c14ed",
   "metadata": {},
   "outputs": [],
   "source": [
    "import pandas as pd"
   ]
  },
  {
   "cell_type": "markdown",
   "id": "e48c81df",
   "metadata": {},
   "source": [
    "## Step 2: Create a data dictionary"
   ]
  },
  {
   "cell_type": "code",
   "execution_count": null,
   "id": "eb433c92",
   "metadata": {},
   "outputs": [],
   "source": [
    "# Creating a dictionary with some sample data\n",
    "data = {\n",
    "    'Name': ['Alice', 'Bob', 'Charlie', 'David'],\n",
    "    'Age': [25, 30, 35, 40],\n",
    "    'City': ['New York', 'Los Angeles', 'Chicago', 'Houston']\n",
    "}"
   ]
  },
  {
   "cell_type": "markdown",
   "id": "fd98f2a7",
   "metadata": {},
   "source": [
    "## Step 3: Assign it to a variable called df"
   ]
  },
  {
   "cell_type": "code",
   "execution_count": null,
   "id": "02fc2119",
   "metadata": {},
   "outputs": [],
   "source": [
    "# Creating a DataFrame\n",
    "df = pd.DataFrame(data)\n",
    "df"
   ]
  },
  {
   "cell_type": "markdown",
   "id": "a87e1513",
   "metadata": {},
   "source": [
    "## Step 4: Create a Pandas Series"
   ]
  },
  {
   "cell_type": "code",
   "execution_count": null,
   "id": "fe13991c",
   "metadata": {},
   "outputs": [],
   "source": [
    "# Creating a Pandas Series\n",
    "series_data = pd.Series([10, 20, 30, 40, 50], name='Numbers')\n",
    "series_data"
   ]
  },
  {
   "cell_type": "markdown",
   "id": "fad646ae",
   "metadata": {},
   "source": [
    "## Step 5: Display information about the DataFrame"
   ]
  },
  {
   "cell_type": "code",
   "execution_count": null,
   "id": "d22d9d35",
   "metadata": {},
   "outputs": [],
   "source": [
    "# Displaying basic info about df\n",
    "df.info()"
   ]
  },
  {
   "cell_type": "markdown",
   "id": "671490b5",
   "metadata": {},
   "source": [
    "## Step 6: Show the first few rows"
   ]
  },
  {
   "cell_type": "code",
   "execution_count": null,
   "id": "3ce3583d",
   "metadata": {},
   "outputs": [],
   "source": [
    "# Displaying the first 3 rows\n",
    "df.head(3)"
   ]
  },
  {
   "cell_type": "markdown",
   "id": "f68524c0",
   "metadata": {},
   "source": [
    "## BONUS: Create your own DataFrame and print it"
   ]
  },
  {
   "cell_type": "code",
   "execution_count": null,
   "id": "b32d9d29",
   "metadata": {},
   "outputs": [],
   "source": [
    "# Creating a custom DataFrame\n",
    "df_bonus = pd.DataFrame({\n",
    "    'Product': ['Laptop', 'Tablet', 'Smartphone'],\n",
    "    'Price': [1000, 500, 800],\n",
    "    'Stock': [50, 80, 100]\n",
    "})\n",
    "df_bonus"
   ]
  }
 ],
 "metadata": {},
 "nbformat": 4,
 "nbformat_minor": 5
}