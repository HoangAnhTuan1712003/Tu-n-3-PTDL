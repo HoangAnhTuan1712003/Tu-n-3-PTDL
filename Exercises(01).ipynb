{
  "cells": [
    {
      "cell_type": "code",
      "execution_count": 1,
      "id": "e31ccddf",
      "metadata": {
        "id": "e31ccddf"
      },
      "outputs": [],
      "source": [
        "import pandas as pd"
      ]
    },
    {
      "cell_type": "code",
      "execution_count": 2,
      "id": "89c6c677",
      "metadata": {
        "id": "89c6c677"
      },
      "outputs": [],
      "source": [
        "# Step 1: Import the necessary libraries"
      ]
    },
    {
      "cell_type": "code",
      "execution_count": 3,
      "id": "af790e33",
      "metadata": {
        "id": "af790e33"
      },
      "outputs": [],
      "source": [
        "# Step 2: Import the dataset"
      ]
    },
    {
      "cell_type": "code",
      "execution_count": 4,
      "id": "211c0a0b",
      "metadata": {
        "id": "211c0a0b"
      },
      "outputs": [],
      "source": [
        "url = \"https://raw.githubusercontent.com/thieu1995/csv-files/main/data/pandas/chipotle.tsv\""
      ]
    },
    {
      "cell_type": "code",
      "execution_count": 5,
      "id": "11d4f2ab",
      "metadata": {
        "id": "11d4f2ab"
      },
      "outputs": [],
      "source": [
        "chipo = pd.read_csv(url, sep='\\t')"
      ]
    },
    {
      "cell_type": "code",
      "execution_count": 6,
      "id": "bcbe8564",
      "metadata": {
        "id": "bcbe8564"
      },
      "outputs": [],
      "source": [
        "# Step 3: Assign it to a variable called chipo"
      ]
    },
    {
      "cell_type": "code",
      "execution_count": 7,
      "id": "df80fca4",
      "metadata": {
        "id": "df80fca4"
      },
      "outputs": [],
      "source": [
        "# Step 4: See the first 10 entries"
      ]
    },
    {
      "cell_type": "code",
      "execution_count": 8,
      "id": "0c0adaa4",
      "metadata": {
        "colab": {
          "base_uri": "https://localhost:8080/",
          "height": 363
        },
        "id": "0c0adaa4",
        "outputId": "4c70aa84-62f6-46d0-9899-aed373ac1f52"
      },
      "outputs": [
        {
          "output_type": "execute_result",
          "data": {
            "text/plain": [
              "   order_id  quantity                              item_name  \\\n",
              "0         1         1           Chips and Fresh Tomato Salsa   \n",
              "1         1         1                                   Izze   \n",
              "2         1         1                       Nantucket Nectar   \n",
              "3         1         1  Chips and Tomatillo-Green Chili Salsa   \n",
              "4         2         2                           Chicken Bowl   \n",
              "5         3         1                           Chicken Bowl   \n",
              "6         3         1                          Side of Chips   \n",
              "7         4         1                          Steak Burrito   \n",
              "8         4         1                       Steak Soft Tacos   \n",
              "9         5         1                          Steak Burrito   \n",
              "\n",
              "                                  choice_description item_price  \n",
              "0                                                NaN     $2.39   \n",
              "1                                       [Clementine]     $3.39   \n",
              "2                                            [Apple]     $3.39   \n",
              "3                                                NaN     $2.39   \n",
              "4  [Tomatillo-Red Chili Salsa (Hot), [Black Beans...    $16.98   \n",
              "5  [Fresh Tomato Salsa (Mild), [Rice, Cheese, Sou...    $10.98   \n",
              "6                                                NaN     $1.69   \n",
              "7  [Tomatillo Red Chili Salsa, [Fajita Vegetables...    $11.75   \n",
              "8  [Tomatillo Green Chili Salsa, [Pinto Beans, Ch...     $9.25   \n",
              "9  [Fresh Tomato Salsa, [Rice, Black Beans, Pinto...     $9.25   "
            ],
            "text/html": [
              "\n",
              "  <div id=\"df-55e8b34e-494f-460d-9859-9774f12ded60\" class=\"colab-df-container\">\n",
              "    <div>\n",
              "<style scoped>\n",
              "    .dataframe tbody tr th:only-of-type {\n",
              "        vertical-align: middle;\n",
              "    }\n",
              "\n",
              "    .dataframe tbody tr th {\n",
              "        vertical-align: top;\n",
              "    }\n",
              "\n",
              "    .dataframe thead th {\n",
              "        text-align: right;\n",
              "    }\n",
              "</style>\n",
              "<table border=\"1\" class=\"dataframe\">\n",
              "  <thead>\n",
              "    <tr style=\"text-align: right;\">\n",
              "      <th></th>\n",
              "      <th>order_id</th>\n",
              "      <th>quantity</th>\n",
              "      <th>item_name</th>\n",
              "      <th>choice_description</th>\n",
              "      <th>item_price</th>\n",
              "    </tr>\n",
              "  </thead>\n",
              "  <tbody>\n",
              "    <tr>\n",
              "      <th>0</th>\n",
              "      <td>1</td>\n",
              "      <td>1</td>\n",
              "      <td>Chips and Fresh Tomato Salsa</td>\n",
              "      <td>NaN</td>\n",
              "      <td>$2.39</td>\n",
              "    </tr>\n",
              "    <tr>\n",
              "      <th>1</th>\n",
              "      <td>1</td>\n",
              "      <td>1</td>\n",
              "      <td>Izze</td>\n",
              "      <td>[Clementine]</td>\n",
              "      <td>$3.39</td>\n",
              "    </tr>\n",
              "    <tr>\n",
              "      <th>2</th>\n",
              "      <td>1</td>\n",
              "      <td>1</td>\n",
              "      <td>Nantucket Nectar</td>\n",
              "      <td>[Apple]</td>\n",
              "      <td>$3.39</td>\n",
              "    </tr>\n",
              "    <tr>\n",
              "      <th>3</th>\n",
              "      <td>1</td>\n",
              "      <td>1</td>\n",
              "      <td>Chips and Tomatillo-Green Chili Salsa</td>\n",
              "      <td>NaN</td>\n",
              "      <td>$2.39</td>\n",
              "    </tr>\n",
              "    <tr>\n",
              "      <th>4</th>\n",
              "      <td>2</td>\n",
              "      <td>2</td>\n",
              "      <td>Chicken Bowl</td>\n",
              "      <td>[Tomatillo-Red Chili Salsa (Hot), [Black Beans...</td>\n",
              "      <td>$16.98</td>\n",
              "    </tr>\n",
              "    <tr>\n",
              "      <th>5</th>\n",
              "      <td>3</td>\n",
              "      <td>1</td>\n",
              "      <td>Chicken Bowl</td>\n",
              "      <td>[Fresh Tomato Salsa (Mild), [Rice, Cheese, Sou...</td>\n",
              "      <td>$10.98</td>\n",
              "    </tr>\n",
              "    <tr>\n",
              "      <th>6</th>\n",
              "      <td>3</td>\n",
              "      <td>1</td>\n",
              "      <td>Side of Chips</td>\n",
              "      <td>NaN</td>\n",
              "      <td>$1.69</td>\n",
              "    </tr>\n",
              "    <tr>\n",
              "      <th>7</th>\n",
              "      <td>4</td>\n",
              "      <td>1</td>\n",
              "      <td>Steak Burrito</td>\n",
              "      <td>[Tomatillo Red Chili Salsa, [Fajita Vegetables...</td>\n",
              "      <td>$11.75</td>\n",
              "    </tr>\n",
              "    <tr>\n",
              "      <th>8</th>\n",
              "      <td>4</td>\n",
              "      <td>1</td>\n",
              "      <td>Steak Soft Tacos</td>\n",
              "      <td>[Tomatillo Green Chili Salsa, [Pinto Beans, Ch...</td>\n",
              "      <td>$9.25</td>\n",
              "    </tr>\n",
              "    <tr>\n",
              "      <th>9</th>\n",
              "      <td>5</td>\n",
              "      <td>1</td>\n",
              "      <td>Steak Burrito</td>\n",
              "      <td>[Fresh Tomato Salsa, [Rice, Black Beans, Pinto...</td>\n",
              "      <td>$9.25</td>\n",
              "    </tr>\n",
              "  </tbody>\n",
              "</table>\n",
              "</div>\n",
              "    <div class=\"colab-df-buttons\">\n",
              "\n",
              "  <div class=\"colab-df-container\">\n",
              "    <button class=\"colab-df-convert\" onclick=\"convertToInteractive('df-55e8b34e-494f-460d-9859-9774f12ded60')\"\n",
              "            title=\"Convert this dataframe to an interactive table.\"\n",
              "            style=\"display:none;\">\n",
              "\n",
              "  <svg xmlns=\"http://www.w3.org/2000/svg\" height=\"24px\" viewBox=\"0 -960 960 960\">\n",
              "    <path d=\"M120-120v-720h720v720H120Zm60-500h600v-160H180v160Zm220 220h160v-160H400v160Zm0 220h160v-160H400v160ZM180-400h160v-160H180v160Zm440 0h160v-160H620v160ZM180-180h160v-160H180v160Zm440 0h160v-160H620v160Z\"/>\n",
              "  </svg>\n",
              "    </button>\n",
              "\n",
              "  <style>\n",
              "    .colab-df-container {\n",
              "      display:flex;\n",
              "      gap: 12px;\n",
              "    }\n",
              "\n",
              "    .colab-df-convert {\n",
              "      background-color: #E8F0FE;\n",
              "      border: none;\n",
              "      border-radius: 50%;\n",
              "      cursor: pointer;\n",
              "      display: none;\n",
              "      fill: #1967D2;\n",
              "      height: 32px;\n",
              "      padding: 0 0 0 0;\n",
              "      width: 32px;\n",
              "    }\n",
              "\n",
              "    .colab-df-convert:hover {\n",
              "      background-color: #E2EBFA;\n",
              "      box-shadow: 0px 1px 2px rgba(60, 64, 67, 0.3), 0px 1px 3px 1px rgba(60, 64, 67, 0.15);\n",
              "      fill: #174EA6;\n",
              "    }\n",
              "\n",
              "    .colab-df-buttons div {\n",
              "      margin-bottom: 4px;\n",
              "    }\n",
              "\n",
              "    [theme=dark] .colab-df-convert {\n",
              "      background-color: #3B4455;\n",
              "      fill: #D2E3FC;\n",
              "    }\n",
              "\n",
              "    [theme=dark] .colab-df-convert:hover {\n",
              "      background-color: #434B5C;\n",
              "      box-shadow: 0px 1px 3px 1px rgba(0, 0, 0, 0.15);\n",
              "      filter: drop-shadow(0px 1px 2px rgba(0, 0, 0, 0.3));\n",
              "      fill: #FFFFFF;\n",
              "    }\n",
              "  </style>\n",
              "\n",
              "    <script>\n",
              "      const buttonEl =\n",
              "        document.querySelector('#df-55e8b34e-494f-460d-9859-9774f12ded60 button.colab-df-convert');\n",
              "      buttonEl.style.display =\n",
              "        google.colab.kernel.accessAllowed ? 'block' : 'none';\n",
              "\n",
              "      async function convertToInteractive(key) {\n",
              "        const element = document.querySelector('#df-55e8b34e-494f-460d-9859-9774f12ded60');\n",
              "        const dataTable =\n",
              "          await google.colab.kernel.invokeFunction('convertToInteractive',\n",
              "                                                    [key], {});\n",
              "        if (!dataTable) return;\n",
              "\n",
              "        const docLinkHtml = 'Like what you see? Visit the ' +\n",
              "          '<a target=\"_blank\" href=https://colab.research.google.com/notebooks/data_table.ipynb>data table notebook</a>'\n",
              "          + ' to learn more about interactive tables.';\n",
              "        element.innerHTML = '';\n",
              "        dataTable['output_type'] = 'display_data';\n",
              "        await google.colab.output.renderOutput(dataTable, element);\n",
              "        const docLink = document.createElement('div');\n",
              "        docLink.innerHTML = docLinkHtml;\n",
              "        element.appendChild(docLink);\n",
              "      }\n",
              "    </script>\n",
              "  </div>\n",
              "\n",
              "\n",
              "<div id=\"df-980a4323-9fcf-4cbd-a80c-fd64ae446419\">\n",
              "  <button class=\"colab-df-quickchart\" onclick=\"quickchart('df-980a4323-9fcf-4cbd-a80c-fd64ae446419')\"\n",
              "            title=\"Suggest charts\"\n",
              "            style=\"display:none;\">\n",
              "\n",
              "<svg xmlns=\"http://www.w3.org/2000/svg\" height=\"24px\"viewBox=\"0 0 24 24\"\n",
              "     width=\"24px\">\n",
              "    <g>\n",
              "        <path d=\"M19 3H5c-1.1 0-2 .9-2 2v14c0 1.1.9 2 2 2h14c1.1 0 2-.9 2-2V5c0-1.1-.9-2-2-2zM9 17H7v-7h2v7zm4 0h-2V7h2v10zm4 0h-2v-4h2v4z\"/>\n",
              "    </g>\n",
              "</svg>\n",
              "  </button>\n",
              "\n",
              "<style>\n",
              "  .colab-df-quickchart {\n",
              "      --bg-color: #E8F0FE;\n",
              "      --fill-color: #1967D2;\n",
              "      --hover-bg-color: #E2EBFA;\n",
              "      --hover-fill-color: #174EA6;\n",
              "      --disabled-fill-color: #AAA;\n",
              "      --disabled-bg-color: #DDD;\n",
              "  }\n",
              "\n",
              "  [theme=dark] .colab-df-quickchart {\n",
              "      --bg-color: #3B4455;\n",
              "      --fill-color: #D2E3FC;\n",
              "      --hover-bg-color: #434B5C;\n",
              "      --hover-fill-color: #FFFFFF;\n",
              "      --disabled-bg-color: #3B4455;\n",
              "      --disabled-fill-color: #666;\n",
              "  }\n",
              "\n",
              "  .colab-df-quickchart {\n",
              "    background-color: var(--bg-color);\n",
              "    border: none;\n",
              "    border-radius: 50%;\n",
              "    cursor: pointer;\n",
              "    display: none;\n",
              "    fill: var(--fill-color);\n",
              "    height: 32px;\n",
              "    padding: 0;\n",
              "    width: 32px;\n",
              "  }\n",
              "\n",
              "  .colab-df-quickchart:hover {\n",
              "    background-color: var(--hover-bg-color);\n",
              "    box-shadow: 0 1px 2px rgba(60, 64, 67, 0.3), 0 1px 3px 1px rgba(60, 64, 67, 0.15);\n",
              "    fill: var(--button-hover-fill-color);\n",
              "  }\n",
              "\n",
              "  .colab-df-quickchart-complete:disabled,\n",
              "  .colab-df-quickchart-complete:disabled:hover {\n",
              "    background-color: var(--disabled-bg-color);\n",
              "    fill: var(--disabled-fill-color);\n",
              "    box-shadow: none;\n",
              "  }\n",
              "\n",
              "  .colab-df-spinner {\n",
              "    border: 2px solid var(--fill-color);\n",
              "    border-color: transparent;\n",
              "    border-bottom-color: var(--fill-color);\n",
              "    animation:\n",
              "      spin 1s steps(1) infinite;\n",
              "  }\n",
              "\n",
              "  @keyframes spin {\n",
              "    0% {\n",
              "      border-color: transparent;\n",
              "      border-bottom-color: var(--fill-color);\n",
              "      border-left-color: var(--fill-color);\n",
              "    }\n",
              "    20% {\n",
              "      border-color: transparent;\n",
              "      border-left-color: var(--fill-color);\n",
              "      border-top-color: var(--fill-color);\n",
              "    }\n",
              "    30% {\n",
              "      border-color: transparent;\n",
              "      border-left-color: var(--fill-color);\n",
              "      border-top-color: var(--fill-color);\n",
              "      border-right-color: var(--fill-color);\n",
              "    }\n",
              "    40% {\n",
              "      border-color: transparent;\n",
              "      border-right-color: var(--fill-color);\n",
              "      border-top-color: var(--fill-color);\n",
              "    }\n",
              "    60% {\n",
              "      border-color: transparent;\n",
              "      border-right-color: var(--fill-color);\n",
              "    }\n",
              "    80% {\n",
              "      border-color: transparent;\n",
              "      border-right-color: var(--fill-color);\n",
              "      border-bottom-color: var(--fill-color);\n",
              "    }\n",
              "    90% {\n",
              "      border-color: transparent;\n",
              "      border-bottom-color: var(--fill-color);\n",
              "    }\n",
              "  }\n",
              "</style>\n",
              "\n",
              "  <script>\n",
              "    async function quickchart(key) {\n",
              "      const quickchartButtonEl =\n",
              "        document.querySelector('#' + key + ' button');\n",
              "      quickchartButtonEl.disabled = true;  // To prevent multiple clicks.\n",
              "      quickchartButtonEl.classList.add('colab-df-spinner');\n",
              "      try {\n",
              "        const charts = await google.colab.kernel.invokeFunction(\n",
              "            'suggestCharts', [key], {});\n",
              "      } catch (error) {\n",
              "        console.error('Error during call to suggestCharts:', error);\n",
              "      }\n",
              "      quickchartButtonEl.classList.remove('colab-df-spinner');\n",
              "      quickchartButtonEl.classList.add('colab-df-quickchart-complete');\n",
              "    }\n",
              "    (() => {\n",
              "      let quickchartButtonEl =\n",
              "        document.querySelector('#df-980a4323-9fcf-4cbd-a80c-fd64ae446419 button');\n",
              "      quickchartButtonEl.style.display =\n",
              "        google.colab.kernel.accessAllowed ? 'block' : 'none';\n",
              "    })();\n",
              "  </script>\n",
              "</div>\n",
              "\n",
              "    </div>\n",
              "  </div>\n"
            ],
            "application/vnd.google.colaboratory.intrinsic+json": {
              "type": "dataframe",
              "variable_name": "chipo",
              "summary": "{\n  \"name\": \"chipo\",\n  \"rows\": 4622,\n  \"fields\": [\n    {\n      \"column\": \"order_id\",\n      \"properties\": {\n        \"dtype\": \"number\",\n        \"std\": 528,\n        \"min\": 1,\n        \"max\": 1834,\n        \"num_unique_values\": 1834,\n        \"samples\": [\n          644,\n          333,\n          991\n        ],\n        \"semantic_type\": \"\",\n        \"description\": \"\"\n      }\n    },\n    {\n      \"column\": \"quantity\",\n      \"properties\": {\n        \"dtype\": \"number\",\n        \"std\": 0,\n        \"min\": 1,\n        \"max\": 15,\n        \"num_unique_values\": 9,\n        \"samples\": [\n          8,\n          2,\n          15\n        ],\n        \"semantic_type\": \"\",\n        \"description\": \"\"\n      }\n    },\n    {\n      \"column\": \"item_name\",\n      \"properties\": {\n        \"dtype\": \"category\",\n        \"num_unique_values\": 50,\n        \"samples\": [\n          \"Barbacoa Burrito\",\n          \"Crispy Tacos\",\n          \"Chips and Roasted Chili Corn Salsa\"\n        ],\n        \"semantic_type\": \"\",\n        \"description\": \"\"\n      }\n    },\n    {\n      \"column\": \"choice_description\",\n      \"properties\": {\n        \"dtype\": \"category\",\n        \"num_unique_values\": 1043,\n        \"samples\": [\n          \"[Roasted Chili Corn Salsa, [Black Beans, Sour Cream, Cheese, Guacamole]]\",\n          \"[Tomatillo Red Chili Salsa, [Guacamole, Cheese]]\",\n          \"[Fresh Tomato Salsa, [Rice, Cheese, Sour Cream, Guacamole, Lettuce]]\"\n        ],\n        \"semantic_type\": \"\",\n        \"description\": \"\"\n      }\n    },\n    {\n      \"column\": \"item_price\",\n      \"properties\": {\n        \"dtype\": \"category\",\n        \"num_unique_values\": 78,\n        \"samples\": [\n          \"$23.50 \",\n          \"$2.39 \",\n          \"$7.40 \"\n        ],\n        \"semantic_type\": \"\",\n        \"description\": \"\"\n      }\n    }\n  ]\n}"
            }
          },
          "metadata": {},
          "execution_count": 8
        }
      ],
      "source": [
        "chipo.head(10)"
      ]
    },
    {
      "cell_type": "code",
      "execution_count": 9,
      "id": "309b1a94",
      "metadata": {
        "id": "309b1a94"
      },
      "outputs": [],
      "source": [
        "# Step 5: Number of observations"
      ]
    },
    {
      "cell_type": "code",
      "execution_count": 10,
      "id": "4a8d3fcd",
      "metadata": {
        "id": "4a8d3fcd"
      },
      "outputs": [],
      "source": [
        "num_observations = chipo.shape[0]"
      ]
    },
    {
      "cell_type": "code",
      "execution_count": 11,
      "id": "345ea933",
      "metadata": {
        "colab": {
          "base_uri": "https://localhost:8080/"
        },
        "id": "345ea933",
        "outputId": "4551c240-6cc2-4026-addc-465eaf7ed18c"
      },
      "outputs": [
        {
          "output_type": "execute_result",
          "data": {
            "text/plain": [
              "4622"
            ]
          },
          "metadata": {},
          "execution_count": 11
        }
      ],
      "source": [
        "num_observations"
      ]
    },
    {
      "cell_type": "code",
      "execution_count": 12,
      "id": "addbdc8b",
      "metadata": {
        "id": "addbdc8b"
      },
      "outputs": [],
      "source": [
        "# Step 6: Number of columns"
      ]
    },
    {
      "cell_type": "code",
      "execution_count": 13,
      "id": "acdf5226",
      "metadata": {
        "id": "acdf5226"
      },
      "outputs": [],
      "source": [
        "num_columns = chipo.shape[1]"
      ]
    },
    {
      "cell_type": "code",
      "execution_count": 14,
      "id": "117aec00",
      "metadata": {
        "colab": {
          "base_uri": "https://localhost:8080/"
        },
        "id": "117aec00",
        "outputId": "f216bdce-7c59-46c3-e2a6-9634f2d77ab4"
      },
      "outputs": [
        {
          "output_type": "execute_result",
          "data": {
            "text/plain": [
              "5"
            ]
          },
          "metadata": {},
          "execution_count": 14
        }
      ],
      "source": [
        "num_columns"
      ]
    },
    {
      "cell_type": "code",
      "execution_count": 15,
      "id": "2962d95f",
      "metadata": {
        "id": "2962d95f"
      },
      "outputs": [],
      "source": [
        "# Step 7: Print the name of all the columns"
      ]
    },
    {
      "cell_type": "code",
      "execution_count": 16,
      "id": "293c7305",
      "metadata": {
        "id": "293c7305"
      },
      "outputs": [],
      "source": [
        "column_names = chipo.columns"
      ]
    },
    {
      "cell_type": "code",
      "execution_count": 17,
      "id": "82371eb5",
      "metadata": {
        "colab": {
          "base_uri": "https://localhost:8080/"
        },
        "id": "82371eb5",
        "outputId": "39773c22-d80a-4d8b-f863-f8046bac77fa"
      },
      "outputs": [
        {
          "output_type": "execute_result",
          "data": {
            "text/plain": [
              "Index(['order_id', 'quantity', 'item_name', 'choice_description',\n",
              "       'item_price'],\n",
              "      dtype='object')"
            ]
          },
          "metadata": {},
          "execution_count": 17
        }
      ],
      "source": [
        "column_names"
      ]
    },
    {
      "cell_type": "code",
      "execution_count": 18,
      "id": "2d7ebc35",
      "metadata": {
        "id": "2d7ebc35"
      },
      "outputs": [],
      "source": [
        "# Step 8: How is the dataset indexed?"
      ]
    },
    {
      "cell_type": "code",
      "execution_count": 19,
      "id": "b5e3bb95",
      "metadata": {
        "id": "b5e3bb95"
      },
      "outputs": [],
      "source": [
        "dataset_index = chipo.index"
      ]
    },
    {
      "cell_type": "code",
      "execution_count": 20,
      "id": "8261ee28",
      "metadata": {
        "colab": {
          "base_uri": "https://localhost:8080/"
        },
        "id": "8261ee28",
        "outputId": "6b74e677-194d-42d1-b15b-d0879a77c953"
      },
      "outputs": [
        {
          "output_type": "execute_result",
          "data": {
            "text/plain": [
              "RangeIndex(start=0, stop=4622, step=1)"
            ]
          },
          "metadata": {},
          "execution_count": 20
        }
      ],
      "source": [
        "dataset_index"
      ]
    },
    {
      "cell_type": "code",
      "execution_count": 21,
      "id": "8951c98c",
      "metadata": {
        "id": "8951c98c"
      },
      "outputs": [],
      "source": [
        "# Step 9: Most-ordered item"
      ]
    },
    {
      "cell_type": "code",
      "execution_count": 22,
      "id": "d579ca6a",
      "metadata": {
        "id": "d579ca6a"
      },
      "outputs": [],
      "source": [
        "most_ordered_item = chipo.groupby('item_name').sum()['quantity'].idxmax()"
      ]
    },
    {
      "cell_type": "code",
      "execution_count": 23,
      "id": "ae725e47",
      "metadata": {
        "colab": {
          "base_uri": "https://localhost:8080/",
          "height": 35
        },
        "id": "ae725e47",
        "outputId": "07c9fffb-642e-4023-b631-c61308bd69f4"
      },
      "outputs": [
        {
          "output_type": "execute_result",
          "data": {
            "text/plain": [
              "'Chicken Bowl'"
            ],
            "application/vnd.google.colaboratory.intrinsic+json": {
              "type": "string"
            }
          },
          "metadata": {},
          "execution_count": 23
        }
      ],
      "source": [
        "most_ordered_item"
      ]
    },
    {
      "cell_type": "code",
      "execution_count": 24,
      "id": "ff4a78a8",
      "metadata": {
        "id": "ff4a78a8"
      },
      "outputs": [],
      "source": [
        "# Step 10: Quantity of most-ordered item"
      ]
    },
    {
      "cell_type": "code",
      "execution_count": 25,
      "id": "774b13cc",
      "metadata": {
        "id": "774b13cc"
      },
      "outputs": [],
      "source": [
        "quantity_most_ordered = chipo.groupby('item_name').sum()['quantity'].max()"
      ]
    },
    {
      "cell_type": "code",
      "execution_count": 26,
      "id": "12754eca",
      "metadata": {
        "colab": {
          "base_uri": "https://localhost:8080/"
        },
        "id": "12754eca",
        "outputId": "5c88d684-70ab-46ec-d958-6fc73482020a"
      },
      "outputs": [
        {
          "output_type": "execute_result",
          "data": {
            "text/plain": [
              "761"
            ]
          },
          "metadata": {},
          "execution_count": 26
        }
      ],
      "source": [
        "quantity_most_ordered"
      ]
    },
    {
      "cell_type": "code",
      "execution_count": 27,
      "id": "23d9a658",
      "metadata": {
        "id": "23d9a658"
      },
      "outputs": [],
      "source": [
        "# Step 11: Most ordered item in choice_description column"
      ]
    },
    {
      "cell_type": "code",
      "execution_count": 28,
      "id": "9578dc8f",
      "metadata": {
        "id": "9578dc8f"
      },
      "outputs": [],
      "source": [
        "most_ordered_choice = chipo['choice_description'].value_counts().idxmax()"
      ]
    },
    {
      "cell_type": "code",
      "execution_count": 29,
      "id": "28a6eb64",
      "metadata": {
        "colab": {
          "base_uri": "https://localhost:8080/",
          "height": 35
        },
        "id": "28a6eb64",
        "outputId": "dee62769-21f4-4fa7-dedc-a7ec1662c097"
      },
      "outputs": [
        {
          "output_type": "execute_result",
          "data": {
            "text/plain": [
              "'[Diet Coke]'"
            ],
            "application/vnd.google.colaboratory.intrinsic+json": {
              "type": "string"
            }
          },
          "metadata": {},
          "execution_count": 29
        }
      ],
      "source": [
        "most_ordered_choice"
      ]
    },
    {
      "cell_type": "code",
      "execution_count": 30,
      "id": "eaa7e76c",
      "metadata": {
        "id": "eaa7e76c"
      },
      "outputs": [],
      "source": [
        "# Step 12: Total items ordered"
      ]
    },
    {
      "cell_type": "code",
      "execution_count": 31,
      "id": "12c6e06c",
      "metadata": {
        "id": "12c6e06c"
      },
      "outputs": [],
      "source": [
        "total_items_ordered = chipo['quantity'].sum()"
      ]
    },
    {
      "cell_type": "code",
      "execution_count": 32,
      "id": "82b33a3d",
      "metadata": {
        "colab": {
          "base_uri": "https://localhost:8080/"
        },
        "id": "82b33a3d",
        "outputId": "595e36fe-5599-4df1-b332-77dca782ee2c"
      },
      "outputs": [
        {
          "output_type": "execute_result",
          "data": {
            "text/plain": [
              "np.int64(4972)"
            ]
          },
          "metadata": {},
          "execution_count": 32
        }
      ],
      "source": [
        "total_items_ordered"
      ]
    },
    {
      "cell_type": "code",
      "execution_count": 33,
      "id": "3b39a698",
      "metadata": {
        "id": "3b39a698"
      },
      "outputs": [],
      "source": [
        "# Step 13: Convert item price to float"
      ]
    },
    {
      "cell_type": "code",
      "execution_count": 34,
      "id": "ba73da19",
      "metadata": {
        "id": "ba73da19"
      },
      "outputs": [],
      "source": [
        "chipo['item_price'] = chipo['item_price'].str.replace('$', '').astype(float)"
      ]
    },
    {
      "cell_type": "code",
      "execution_count": 35,
      "id": "8306bb43",
      "metadata": {
        "id": "8306bb43"
      },
      "outputs": [],
      "source": [
        "# Step 14: Revenue for the period"
      ]
    },
    {
      "cell_type": "code",
      "execution_count": 36,
      "id": "aee3d593",
      "metadata": {
        "id": "aee3d593"
      },
      "outputs": [],
      "source": [
        "revenue = (chipo['quantity'] * chipo['item_price']).sum()"
      ]
    },
    {
      "cell_type": "code",
      "execution_count": 37,
      "id": "3aedfa0a",
      "metadata": {
        "colab": {
          "base_uri": "https://localhost:8080/"
        },
        "id": "3aedfa0a",
        "outputId": "7762fb99-10cb-4e4e-f645-e1a66d15a575"
      },
      "outputs": [
        {
          "output_type": "execute_result",
          "data": {
            "text/plain": [
              "np.float64(39237.02)"
            ]
          },
          "metadata": {},
          "execution_count": 37
        }
      ],
      "source": [
        "revenue"
      ]
    },
    {
      "cell_type": "code",
      "execution_count": 38,
      "id": "e8e090d1",
      "metadata": {
        "id": "e8e090d1"
      },
      "outputs": [],
      "source": [
        "# Step 15: Number of orders"
      ]
    },
    {
      "cell_type": "code",
      "execution_count": 39,
      "id": "f576e8c0",
      "metadata": {
        "id": "f576e8c0"
      },
      "outputs": [],
      "source": [
        "num_orders = chipo['order_id'].nunique()"
      ]
    },
    {
      "cell_type": "code",
      "execution_count": 40,
      "id": "0810edb0",
      "metadata": {
        "colab": {
          "base_uri": "https://localhost:8080/"
        },
        "id": "0810edb0",
        "outputId": "fde35ba6-54d1-4155-e3f7-d88bbc188066"
      },
      "outputs": [
        {
          "output_type": "execute_result",
          "data": {
            "text/plain": [
              "1834"
            ]
          },
          "metadata": {},
          "execution_count": 40
        }
      ],
      "source": [
        "num_orders"
      ]
    },
    {
      "cell_type": "code",
      "execution_count": 41,
      "id": "3b5603c2",
      "metadata": {
        "id": "3b5603c2"
      },
      "outputs": [],
      "source": [
        "# Step 16: Average revenue per order"
      ]
    },
    {
      "cell_type": "code",
      "execution_count": 42,
      "id": "bfc5c27e",
      "metadata": {
        "id": "bfc5c27e"
      },
      "outputs": [],
      "source": [
        "average_revenue_per_order = revenue / num_orders"
      ]
    },
    {
      "cell_type": "code",
      "execution_count": 43,
      "id": "26a83acd",
      "metadata": {
        "colab": {
          "base_uri": "https://localhost:8080/"
        },
        "id": "26a83acd",
        "outputId": "edd83f87-f6b0-4d7b-dcfe-71c22a21dd57"
      },
      "outputs": [
        {
          "output_type": "execute_result",
          "data": {
            "text/plain": [
              "np.float64(21.39423118865867)"
            ]
          },
          "metadata": {},
          "execution_count": 43
        }
      ],
      "source": [
        "average_revenue_per_order"
      ]
    },
    {
      "cell_type": "code",
      "execution_count": 44,
      "id": "a4392ed8",
      "metadata": {
        "id": "a4392ed8"
      },
      "outputs": [],
      "source": [
        "# Step 17: Number of different items sold"
      ]
    },
    {
      "cell_type": "code",
      "execution_count": 45,
      "id": "6773930a",
      "metadata": {
        "id": "6773930a"
      },
      "outputs": [],
      "source": [
        "num_different_items = chipo['item_name'].nunique()"
      ]
    },
    {
      "cell_type": "code",
      "execution_count": 46,
      "id": "570a6e02",
      "metadata": {
        "colab": {
          "base_uri": "https://localhost:8080/"
        },
        "id": "570a6e02",
        "outputId": "c676ba3f-a436-4202-fde3-70d04ad7c76c"
      },
      "outputs": [
        {
          "output_type": "execute_result",
          "data": {
            "text/plain": [
              "50"
            ]
          },
          "metadata": {},
          "execution_count": 46
        }
      ],
      "source": [
        "num_different_items"
      ]
    }
  ],
  "metadata": {
    "colab": {
      "provenance": []
    },
    "language_info": {
      "name": "python"
    },
    "kernelspec": {
      "name": "python3",
      "display_name": "Python 3"
    }
  },
  "nbformat": 4,
  "nbformat_minor": 5
}