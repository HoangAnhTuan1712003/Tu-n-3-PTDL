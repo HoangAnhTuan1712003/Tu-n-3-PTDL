{
 "cells": [
  {
   "cell_type": "code",
   "execution_count": null,
   "id": "e31ccddf",
   "metadata": {},
   "outputs": [],
   "source": [
    "import pandas as pd"
   ]
  },
  {
   "cell_type": "code",
   "execution_count": null,
   "id": "89c6c677",
   "metadata": {},
   "outputs": [],
   "source": [
    "# Step 1: Import the necessary libraries"
   ]
  },
  {
   "cell_type": "code",
   "execution_count": null,
   "id": "af790e33",
   "metadata": {},
   "outputs": [],
   "source": [
    "# Step 2: Import the dataset"
   ]
  },
  {
   "cell_type": "code",
   "execution_count": null,
   "id": "211c0a0b",
   "metadata": {},
   "outputs": [],
   "source": [
    "url = \"https://raw.githubusercontent.com/thieu1995/csv-files/main/data/pandas/chipotle.tsv\""
   ]
  },
  {
   "cell_type": "code",
   "execution_count": null,
   "id": "11d4f2ab",
   "metadata": {},
   "outputs": [],
   "source": [
    "chipo = pd.read_csv(url, sep='\\t')"
   ]
  },
  {
   "cell_type": "code",
   "execution_count": null,
   "id": "bcbe8564",
   "metadata": {},
   "outputs": [],
   "source": [
    "# Step 3: Assign it to a variable called chipo"
   ]
  },
  {
   "cell_type": "code",
   "execution_count": null,
   "id": "df80fca4",
   "metadata": {},
   "outputs": [],
   "source": [
    "# Step 4: See the first 10 entries"
   ]
  },
  {
   "cell_type": "code",
   "execution_count": null,
   "id": "0c0adaa4",
   "metadata": {},
   "outputs": [],
   "source": [
    "chipo.head(10)"
   ]
  },
  {
   "cell_type": "code",
   "execution_count": null,
   "id": "309b1a94",
   "metadata": {},
   "outputs": [],
   "source": [
    "# Step 5: Number of observations"
   ]
  },
  {
   "cell_type": "code",
   "execution_count": null,
   "id": "4a8d3fcd",
   "metadata": {},
   "outputs": [],
   "source": [
    "num_observations = chipo.shape[0]"
   ]
  },
  {
   "cell_type": "code",
   "execution_count": null,
   "id": "345ea933",
   "metadata": {},
   "outputs": [],
   "source": [
    "num_observations"
   ]
  },
  {
   "cell_type": "code",
   "execution_count": null,
   "id": "addbdc8b",
   "metadata": {},
   "outputs": [],
   "source": [
    "# Step 6: Number of columns"
   ]
  },
  {
   "cell_type": "code",
   "execution_count": null,
   "id": "acdf5226",
   "metadata": {},
   "outputs": [],
   "source": [
    "num_columns = chipo.shape[1]"
   ]
  },
  {
   "cell_type": "code",
   "execution_count": null,
   "id": "117aec00",
   "metadata": {},
   "outputs": [],
   "source": [
    "num_columns"
   ]
  },
  {
   "cell_type": "code",
   "execution_count": null,
   "id": "2962d95f",
   "metadata": {},
   "outputs": [],
   "source": [
    "# Step 7: Print the name of all the columns"
   ]
  },
  {
   "cell_type": "code",
   "execution_count": null,
   "id": "293c7305",
   "metadata": {},
   "outputs": [],
   "source": [
    "column_names = chipo.columns"
   ]
  },
  {
   "cell_type": "code",
   "execution_count": null,
   "id": "82371eb5",
   "metadata": {},
   "outputs": [],
   "source": [
    "column_names"
   ]
  },
  {
   "cell_type": "code",
   "execution_count": null,
   "id": "2d7ebc35",
   "metadata": {},
   "outputs": [],
   "source": [
    "# Step 8: How is the dataset indexed?"
   ]
  },
  {
   "cell_type": "code",
   "execution_count": null,
   "id": "b5e3bb95",
   "metadata": {},
   "outputs": [],
   "source": [
    "dataset_index = chipo.index"
   ]
  },
  {
   "cell_type": "code",
   "execution_count": null,
   "id": "8261ee28",
   "metadata": {},
   "outputs": [],
   "source": [
    "dataset_index"
   ]
  },
  {
   "cell_type": "code",
   "execution_count": null,
   "id": "8951c98c",
   "metadata": {},
   "outputs": [],
   "source": [
    "# Step 9: Most-ordered item"
   ]
  },
  {
   "cell_type": "code",
   "execution_count": null,
   "id": "d579ca6a",
   "metadata": {},
   "outputs": [],
   "source": [
    "most_ordered_item = chipo.groupby('item_name').sum()['quantity'].idxmax()"
   ]
  },
  {
   "cell_type": "code",
   "execution_count": null,
   "id": "ae725e47",
   "metadata": {},
   "outputs": [],
   "source": [
    "most_ordered_item"
   ]
  },
  {
   "cell_type": "code",
   "execution_count": null,
   "id": "ff4a78a8",
   "metadata": {},
   "outputs": [],
   "source": [
    "# Step 10: Quantity of most-ordered item"
   ]
  },
  {
   "cell_type": "code",
   "execution_count": null,
   "id": "774b13cc",
   "metadata": {},
   "outputs": [],
   "source": [
    "quantity_most_ordered = chipo.groupby('item_name').sum()['quantity'].max()"
   ]
  },
  {
   "cell_type": "code",
   "execution_count": null,
   "id": "12754eca",
   "metadata": {},
   "outputs": [],
   "source": [
    "quantity_most_ordered"
   ]
  },
  {
   "cell_type": "code",
   "execution_count": null,
   "id": "23d9a658",
   "metadata": {},
   "outputs": [],
   "source": [
    "# Step 11: Most ordered item in choice_description column"
   ]
  },
  {
   "cell_type": "code",
   "execution_count": null,
   "id": "9578dc8f",
   "metadata": {},
   "outputs": [],
   "source": [
    "most_ordered_choice = chipo['choice_description'].value_counts().idxmax()"
   ]
  },
  {
   "cell_type": "code",
   "execution_count": null,
   "id": "28a6eb64",
   "metadata": {},
   "outputs": [],
   "source": [
    "most_ordered_choice"
   ]
  },
  {
   "cell_type": "code",
   "execution_count": null,
   "id": "eaa7e76c",
   "metadata": {},
   "outputs": [],
   "source": [
    "# Step 12: Total items ordered"
   ]
  },
  {
   "cell_type": "code",
   "execution_count": null,
   "id": "12c6e06c",
   "metadata": {},
   "outputs": [],
   "source": [
    "total_items_ordered = chipo['quantity'].sum()"
   ]
  },
  {
   "cell_type": "code",
   "execution_count": null,
   "id": "82b33a3d",
   "metadata": {},
   "outputs": [],
   "source": [
    "total_items_ordered"
   ]
  },
  {
   "cell_type": "code",
   "execution_count": null,
   "id": "3b39a698",
   "metadata": {},
   "outputs": [],
   "source": [
    "# Step 13: Convert item price to float"
   ]
  },
  {
   "cell_type": "code",
   "execution_count": null,
   "id": "ba73da19",
   "metadata": {},
   "outputs": [],
   "source": [
    "chipo['item_price'] = chipo['item_price'].str.replace('$', '').astype(float)"
   ]
  },
  {
   "cell_type": "code",
   "execution_count": null,
   "id": "8306bb43",
   "metadata": {},
   "outputs": [],
   "source": [
    "# Step 14: Revenue for the period"
   ]
  },
  {
   "cell_type": "code",
   "execution_count": null,
   "id": "aee3d593",
   "metadata": {},
   "outputs": [],
   "source": [
    "revenue = (chipo['quantity'] * chipo['item_price']).sum()"
   ]
  },
  {
   "cell_type": "code",
   "execution_count": null,
   "id": "3aedfa0a",
   "metadata": {},
   "outputs": [],
   "source": [
    "revenue"
   ]
  },
  {
   "cell_type": "code",
   "execution_count": null,
   "id": "e8e090d1",
   "metadata": {},
   "outputs": [],
   "source": [
    "# Step 15: Number of orders"
   ]
  },
  {
   "cell_type": "code",
   "execution_count": null,
   "id": "f576e8c0",
   "metadata": {},
   "outputs": [],
   "source": [
    "num_orders = chipo['order_id'].nunique()"
   ]
  },
  {
   "cell_type": "code",
   "execution_count": null,
   "id": "0810edb0",
   "metadata": {},
   "outputs": [],
   "source": [
    "num_orders"
   ]
  },
  {
   "cell_type": "code",
   "execution_count": null,
   "id": "3b5603c2",
   "metadata": {},
   "outputs": [],
   "source": [
    "# Step 16: Average revenue per order"
   ]
  },
  {
   "cell_type": "code",
   "execution_count": null,
   "id": "bfc5c27e",
   "metadata": {},
   "outputs": [],
   "source": [
    "average_revenue_per_order = revenue / num_orders"
   ]
  },
  {
   "cell_type": "code",
   "execution_count": null,
   "id": "26a83acd",
   "metadata": {},
   "outputs": [],
   "source": [
    "average_revenue_per_order"
   ]
  },
  {
   "cell_type": "code",
   "execution_count": null,
   "id": "a4392ed8",
   "metadata": {},
   "outputs": [],
   "source": [
    "# Step 17: Number of different items sold"
   ]
  },
  {
   "cell_type": "code",
   "execution_count": null,
   "id": "6773930a",
   "metadata": {},
   "outputs": [],
   "source": [
    "num_different_items = chipo['item_name'].nunique()"
   ]
  },
  {
   "cell_type": "code",
   "execution_count": null,
   "id": "570a6e02",
   "metadata": {},
   "outputs": [],
   "source": [
    "num_different_items"
   ]
  }
 ],
 "metadata": {},
 "nbformat": 4,
 "nbformat_minor": 5
}
